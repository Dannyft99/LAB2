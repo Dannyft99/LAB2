{
 "cells": [
  {
   "cell_type": "markdown",
   "id": "b60503f5",
   "metadata": {},
   "source": [
    "# Librerias"
   ]
  },
  {
   "cell_type": "code",
   "execution_count": 27,
   "id": "3c25c006",
   "metadata": {},
   "outputs": [],
   "source": [
    "import pandas\n",
    "from sklearn import tree\n",
    "from sklearn.tree import DecisionTreeClassifier\n",
    "from graphviz import Digraph\n",
    "import matplotlib.pyplot as plt\n",
    "import matplotlib.image as pltimg\n",
    "import pydotplus\n",
    "from IPython.display import Image"
   ]
  },
  {
   "cell_type": "markdown",
   "id": "3f7071f8",
   "metadata": {},
   "source": [
    "# Cargar y leer dataset csv"
   ]
  },
  {
   "cell_type": "code",
   "execution_count": 28,
   "id": "8e916f67",
   "metadata": {},
   "outputs": [
    {
     "data": {
      "text/html": [
       "<div>\n",
       "<style scoped>\n",
       "    .dataframe tbody tr th:only-of-type {\n",
       "        vertical-align: middle;\n",
       "    }\n",
       "\n",
       "    .dataframe tbody tr th {\n",
       "        vertical-align: top;\n",
       "    }\n",
       "\n",
       "    .dataframe thead th {\n",
       "        text-align: right;\n",
       "    }\n",
       "</style>\n",
       "<table border=\"1\" class=\"dataframe\">\n",
       "  <thead>\n",
       "    <tr style=\"text-align: right;\">\n",
       "      <th></th>\n",
       "      <th>Age</th>\n",
       "      <th>Experience</th>\n",
       "      <th>Rank</th>\n",
       "      <th>Nationality</th>\n",
       "      <th>Go</th>\n",
       "    </tr>\n",
       "  </thead>\n",
       "  <tbody>\n",
       "    <tr>\n",
       "      <th>0</th>\n",
       "      <td>36</td>\n",
       "      <td>10</td>\n",
       "      <td>9</td>\n",
       "      <td>UK</td>\n",
       "      <td>NO</td>\n",
       "    </tr>\n",
       "    <tr>\n",
       "      <th>1</th>\n",
       "      <td>42</td>\n",
       "      <td>12</td>\n",
       "      <td>4</td>\n",
       "      <td>USA</td>\n",
       "      <td>NO</td>\n",
       "    </tr>\n",
       "    <tr>\n",
       "      <th>2</th>\n",
       "      <td>23</td>\n",
       "      <td>4</td>\n",
       "      <td>6</td>\n",
       "      <td>N</td>\n",
       "      <td>NO</td>\n",
       "    </tr>\n",
       "    <tr>\n",
       "      <th>3</th>\n",
       "      <td>52</td>\n",
       "      <td>4</td>\n",
       "      <td>4</td>\n",
       "      <td>USA</td>\n",
       "      <td>NO</td>\n",
       "    </tr>\n",
       "    <tr>\n",
       "      <th>4</th>\n",
       "      <td>43</td>\n",
       "      <td>21</td>\n",
       "      <td>8</td>\n",
       "      <td>USA</td>\n",
       "      <td>YES</td>\n",
       "    </tr>\n",
       "    <tr>\n",
       "      <th>5</th>\n",
       "      <td>44</td>\n",
       "      <td>14</td>\n",
       "      <td>5</td>\n",
       "      <td>UK</td>\n",
       "      <td>NO</td>\n",
       "    </tr>\n",
       "    <tr>\n",
       "      <th>6</th>\n",
       "      <td>66</td>\n",
       "      <td>3</td>\n",
       "      <td>7</td>\n",
       "      <td>N</td>\n",
       "      <td>YES</td>\n",
       "    </tr>\n",
       "    <tr>\n",
       "      <th>7</th>\n",
       "      <td>35</td>\n",
       "      <td>14</td>\n",
       "      <td>9</td>\n",
       "      <td>UK</td>\n",
       "      <td>YES</td>\n",
       "    </tr>\n",
       "    <tr>\n",
       "      <th>8</th>\n",
       "      <td>52</td>\n",
       "      <td>13</td>\n",
       "      <td>7</td>\n",
       "      <td>N</td>\n",
       "      <td>YES</td>\n",
       "    </tr>\n",
       "    <tr>\n",
       "      <th>9</th>\n",
       "      <td>35</td>\n",
       "      <td>5</td>\n",
       "      <td>9</td>\n",
       "      <td>N</td>\n",
       "      <td>YES</td>\n",
       "    </tr>\n",
       "    <tr>\n",
       "      <th>10</th>\n",
       "      <td>24</td>\n",
       "      <td>3</td>\n",
       "      <td>5</td>\n",
       "      <td>USA</td>\n",
       "      <td>NO</td>\n",
       "    </tr>\n",
       "    <tr>\n",
       "      <th>11</th>\n",
       "      <td>18</td>\n",
       "      <td>3</td>\n",
       "      <td>7</td>\n",
       "      <td>UK</td>\n",
       "      <td>YES</td>\n",
       "    </tr>\n",
       "    <tr>\n",
       "      <th>12</th>\n",
       "      <td>45</td>\n",
       "      <td>9</td>\n",
       "      <td>9</td>\n",
       "      <td>UK</td>\n",
       "      <td>YES</td>\n",
       "    </tr>\n",
       "  </tbody>\n",
       "</table>\n",
       "</div>"
      ],
      "text/plain": [
       "    Age  Experience  Rank Nationality   Go\n",
       "0    36          10     9          UK   NO\n",
       "1    42          12     4         USA   NO\n",
       "2    23           4     6           N   NO\n",
       "3    52           4     4         USA   NO\n",
       "4    43          21     8         USA  YES\n",
       "5    44          14     5          UK   NO\n",
       "6    66           3     7           N  YES\n",
       "7    35          14     9          UK  YES\n",
       "8    52          13     7           N  YES\n",
       "9    35           5     9           N  YES\n",
       "10   24           3     5         USA   NO\n",
       "11   18           3     7          UK  YES\n",
       "12   45           9     9          UK  YES"
      ]
     },
     "execution_count": 28,
     "metadata": {},
     "output_type": "execute_result"
    }
   ],
   "source": [
    "df = pandas.read_csv('shows.csv')\n",
    "df"
   ]
  },
  {
   "cell_type": "markdown",
   "id": "450dfa7e",
   "metadata": {},
   "source": [
    "# Representar los valores alfanuméricos del dataset"
   ]
  },
  {
   "cell_type": "markdown",
   "id": "3930ea24",
   "metadata": {},
   "source": [
    "#### En esta sección se reemplazaran los valores no numéricos por numéricos"
   ]
  },
  {
   "cell_type": "code",
   "execution_count": 29,
   "id": "89935b8a",
   "metadata": {},
   "outputs": [
    {
     "name": "stdout",
     "output_type": "stream",
     "text": [
      "    Age  Experience  Rank  Nationality  Go\n",
      "0    36          10     9            0   0\n",
      "1    42          12     4            1   0\n",
      "2    23           4     6            2   0\n",
      "3    52           4     4            1   0\n",
      "4    43          21     8            1   1\n",
      "5    44          14     5            0   0\n",
      "6    66           3     7            2   1\n",
      "7    35          14     9            0   1\n",
      "8    52          13     7            2   1\n",
      "9    35           5     9            2   1\n",
      "10   24           3     5            1   0\n",
      "11   18           3     7            0   1\n",
      "12   45           9     9            0   1\n"
     ]
    }
   ],
   "source": [
    "#Asignamos valor de 0 1 2 correspondientemente a los paises\n",
    "d1 = {'UK': 0, 'USA': 1, 'N': 2}\n",
    "df['Nationality'] = df['Nationality'].map(d1)\n",
    "#Asignamos valor de 0 1 a los valores de SI y NO\n",
    "d2 = {'YES': 1, 'NO': 0}\n",
    "df['Go'] = df['Go'].map(d2)\n",
    "#Imprimimos la tabla\n",
    "print(df)"
   ]
  },
  {
   "cell_type": "markdown",
   "id": "7920f03a",
   "metadata": {},
   "source": [
    "# Elegir características"
   ]
  },
  {
   "cell_type": "markdown",
   "id": "edddf8e8",
   "metadata": {},
   "source": [
    "#### Se seleccionan columnas de las que intentamos predecir. Se deben elegir las columnas que aportarán más al objetivo del modelo. "
   ]
  },
  {
   "cell_type": "code",
   "execution_count": 30,
   "id": "ba91f6aa",
   "metadata": {},
   "outputs": [],
   "source": [
    "#Creamos variable features y la almacenamos dentro de una variable x dentro de un array\n",
    "features = ['Age', 'Experience', 'Rank', 'Nationality']\n",
    "X = df[features]"
   ]
  },
  {
   "cell_type": "code",
   "execution_count": 31,
   "id": "a1c40a22",
   "metadata": {},
   "outputs": [],
   "source": [
    "#Seleccionamos el objetivo y lo almacenamos dentro de la variable y\n",
    "y = df['Go']"
   ]
  },
  {
   "cell_type": "markdown",
   "id": "27aff6bd",
   "metadata": {},
   "source": [
    "#### Imprimimos 'x ' y 'y '"
   ]
  },
  {
   "cell_type": "code",
   "execution_count": 32,
   "id": "96fd7f85",
   "metadata": {},
   "outputs": [
    {
     "name": "stdout",
     "output_type": "stream",
     "text": [
      "    Age  Experience  Rank  Nationality\n",
      "0    36          10     9            0\n",
      "1    42          12     4            1\n",
      "2    23           4     6            2\n",
      "3    52           4     4            1\n",
      "4    43          21     8            1\n",
      "5    44          14     5            0\n",
      "6    66           3     7            2\n",
      "7    35          14     9            0\n",
      "8    52          13     7            2\n",
      "9    35           5     9            2\n",
      "10   24           3     5            1\n",
      "11   18           3     7            0\n",
      "12   45           9     9            0\n",
      "\n",
      "0     0\n",
      "1     0\n",
      "2     0\n",
      "3     0\n",
      "4     1\n",
      "5     0\n",
      "6     1\n",
      "7     1\n",
      "8     1\n",
      "9     1\n",
      "10    0\n",
      "11    1\n",
      "12    1\n",
      "Name: Go, dtype: int64\n"
     ]
    }
   ],
   "source": [
    "print(X, y, sep='\\n\\n')"
   ]
  },
  {
   "cell_type": "markdown",
   "id": "9d158b10",
   "metadata": {},
   "source": [
    "# Creación de árbol de decisiones"
   ]
  },
  {
   "cell_type": "markdown",
   "id": "91be7644",
   "metadata": {},
   "source": [
    "#### Utilizando DecisionTreeClassifier6 de la librería sklearn. Mediante método “fit” construya un clasificador de árbol de decisión a partir del conjunto de entrenamiento (X, y). "
   ]
  },
  {
   "cell_type": "code",
   "execution_count": 33,
   "id": "23687196",
   "metadata": {},
   "outputs": [],
   "source": [
    "dtree = DecisionTreeClassifier()\n",
    "dtree = dtree.fit(X, y)"
   ]
  },
  {
   "cell_type": "markdown",
   "id": "7e8c845e",
   "metadata": {},
   "source": [
    "# Guardar el árbol de decisiones"
   ]
  },
  {
   "cell_type": "code",
   "execution_count": null,
   "id": "2e771dc8",
   "metadata": {},
   "outputs": [],
   "source": [
    "#Utilizando pydotplus guardaremos el arbol de decision como una imagen\n",
    "data = tree.export_graphviz(dtree, out_file=None, feature_names=features)\n",
    "graph = pydotplus.graph_from_dot_data(data)\n",
    "graph.create_png('arbol.png')"
   ]
  },
  {
   "cell_type": "code",
   "execution_count": 38,
   "id": "567db08b",
   "metadata": {},
   "outputs": [
    {
     "data": {
      "image/png": "[encoded data removed]",
      "text/plain": [
       "<Figure size 432x288 with 1 Axes>"
      ]
     },
     "metadata": {
      "needs_background": "light"
     },
     "output_type": "display_data"
    }
   ],
   "source": [
    "img = pltimg.imread('arbol.png')\n",
    "imgplot = plt.imshow(img)\n",
    "plt.show()"
   ]
  }
 ],
 "metadata": {
  "interpreter": {
   "hash": "e8a2970988ede6c29ad0ddac7fe8da746e31d269be4c47fb99a880bc294ea998"
  },
  "kernelspec": {
   "display_name": "Python 3.10.0 64-bit",
   "language": "python",
   "name": "python3"
  },
  "language_info": {
   "codemirror_mode": {
    "name": "ipython",
    "version": 3
   },
   "file_extension": ".py",
   "mimetype": "text/x-python",
   "name": "python",
   "nbconvert_exporter": "python",
   "pygments_lexer": "ipython3",
   "version": "3.10.0"
  }
 },
 "nbformat": 4,
 "nbformat_minor": 5
}
