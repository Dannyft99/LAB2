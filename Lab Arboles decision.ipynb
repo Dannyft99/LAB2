{
 "cells": [
  {
   "cell_type": "markdown",
   "id": "b60503f5",
   "metadata": {},
   "source": [
    "# Librerias"
   ]
  },
  {
   "cell_type": "code",
   "execution_count": 22,
   "id": "3c25c006",
   "metadata": {},
   "outputs": [
    {
     "ename": "ModuleNotFoundError",
     "evalue": "No module named 'pydotplus'",
     "output_type": "error",
     "traceback": [
      "\u001b[1;31m---------------------------------------------------------------------------\u001b[0m",
      "\u001b[1;31mModuleNotFoundError\u001b[0m                       Traceback (most recent call last)",
      "Input \u001b[1;32mIn [22]\u001b[0m, in \u001b[0;36m<cell line: 7>\u001b[1;34m()\u001b[0m\n\u001b[0;32m      5\u001b[0m \u001b[38;5;28;01mimport\u001b[39;00m \u001b[38;5;21;01mmatplotlib\u001b[39;00m\u001b[38;5;21;01m.\u001b[39;00m\u001b[38;5;21;01mpyplot\u001b[39;00m \u001b[38;5;28;01mas\u001b[39;00m \u001b[38;5;21;01mplt\u001b[39;00m\n\u001b[0;32m      6\u001b[0m \u001b[38;5;28;01mimport\u001b[39;00m \u001b[38;5;21;01mmatplotlib\u001b[39;00m\u001b[38;5;21;01m.\u001b[39;00m\u001b[38;5;21;01mimage\u001b[39;00m \u001b[38;5;28;01mas\u001b[39;00m \u001b[38;5;21;01mpltimg\u001b[39;00m\n\u001b[1;32m----> 7\u001b[0m \u001b[38;5;28;01mimport\u001b[39;00m \u001b[38;5;21;01mpydotplus\u001b[39;00m \u001b[38;5;28;01mas\u001b[39;00m \u001b[38;5;21;01mpt\u001b[39;00m\n\u001b[0;32m      8\u001b[0m \u001b[38;5;28;01mfrom\u001b[39;00m \u001b[38;5;21;01mIPython\u001b[39;00m\u001b[38;5;21;01m.\u001b[39;00m\u001b[38;5;21;01mdisplay\u001b[39;00m \u001b[38;5;28;01mimport\u001b[39;00m Image\n",
      "\u001b[1;31mModuleNotFoundError\u001b[0m: No module named 'pydotplus'"
     ]
    }
   ],
   "source": [
    "import pandas\n",
    "from sklearn import tree\n",
    "from sklearn.tree import DecisionTreeClassifier\n",
    "%matplotlib notebook\n",
    "import matplotlib.pyplot as plt\n",
    "import matplotlib.image as pltimg\n",
    "import pydotplus as pt"
   ]
  },
  {
   "cell_type": "markdown",
   "id": "3f7071f8",
   "metadata": {},
   "source": [
    "# Cargar y leer dataset csv"
   ]
  },
  {
   "cell_type": "code",
   "execution_count": 8,
   "id": "8e916f67",
   "metadata": {},
   "outputs": [
    {
     "data": {
      "text/html": [
       "<div>\n",
       "<style scoped>\n",
       "    .dataframe tbody tr th:only-of-type {\n",
       "        vertical-align: middle;\n",
       "    }\n",
       "\n",
       "    .dataframe tbody tr th {\n",
       "        vertical-align: top;\n",
       "    }\n",
       "\n",
       "    .dataframe thead th {\n",
       "        text-align: right;\n",
       "    }\n",
       "</style>\n",
       "<table border=\"1\" class=\"dataframe\">\n",
       "  <thead>\n",
       "    <tr style=\"text-align: right;\">\n",
       "      <th></th>\n",
       "      <th>Age</th>\n",
       "      <th>Experience</th>\n",
       "      <th>Rank</th>\n",
       "      <th>Nationality</th>\n",
       "      <th>Go</th>\n",
       "    </tr>\n",
       "  </thead>\n",
       "  <tbody>\n",
       "    <tr>\n",
       "      <th>0</th>\n",
       "      <td>36</td>\n",
       "      <td>10</td>\n",
       "      <td>9</td>\n",
       "      <td>UK</td>\n",
       "      <td>NO</td>\n",
       "    </tr>\n",
       "    <tr>\n",
       "      <th>1</th>\n",
       "      <td>42</td>\n",
       "      <td>12</td>\n",
       "      <td>4</td>\n",
       "      <td>USA</td>\n",
       "      <td>NO</td>\n",
       "    </tr>\n",
       "    <tr>\n",
       "      <th>2</th>\n",
       "      <td>23</td>\n",
       "      <td>4</td>\n",
       "      <td>6</td>\n",
       "      <td>N</td>\n",
       "      <td>NO</td>\n",
       "    </tr>\n",
       "    <tr>\n",
       "      <th>3</th>\n",
       "      <td>52</td>\n",
       "      <td>4</td>\n",
       "      <td>4</td>\n",
       "      <td>USA</td>\n",
       "      <td>NO</td>\n",
       "    </tr>\n",
       "    <tr>\n",
       "      <th>4</th>\n",
       "      <td>43</td>\n",
       "      <td>21</td>\n",
       "      <td>8</td>\n",
       "      <td>USA</td>\n",
       "      <td>YES</td>\n",
       "    </tr>\n",
       "    <tr>\n",
       "      <th>5</th>\n",
       "      <td>44</td>\n",
       "      <td>14</td>\n",
       "      <td>5</td>\n",
       "      <td>UK</td>\n",
       "      <td>NO</td>\n",
       "    </tr>\n",
       "    <tr>\n",
       "      <th>6</th>\n",
       "      <td>66</td>\n",
       "      <td>3</td>\n",
       "      <td>7</td>\n",
       "      <td>N</td>\n",
       "      <td>YES</td>\n",
       "    </tr>\n",
       "    <tr>\n",
       "      <th>7</th>\n",
       "      <td>35</td>\n",
       "      <td>14</td>\n",
       "      <td>9</td>\n",
       "      <td>UK</td>\n",
       "      <td>YES</td>\n",
       "    </tr>\n",
       "    <tr>\n",
       "      <th>8</th>\n",
       "      <td>52</td>\n",
       "      <td>13</td>\n",
       "      <td>7</td>\n",
       "      <td>N</td>\n",
       "      <td>YES</td>\n",
       "    </tr>\n",
       "    <tr>\n",
       "      <th>9</th>\n",
       "      <td>35</td>\n",
       "      <td>5</td>\n",
       "      <td>9</td>\n",
       "      <td>N</td>\n",
       "      <td>YES</td>\n",
       "    </tr>\n",
       "    <tr>\n",
       "      <th>10</th>\n",
       "      <td>24</td>\n",
       "      <td>3</td>\n",
       "      <td>5</td>\n",
       "      <td>USA</td>\n",
       "      <td>NO</td>\n",
       "    </tr>\n",
       "    <tr>\n",
       "      <th>11</th>\n",
       "      <td>18</td>\n",
       "      <td>3</td>\n",
       "      <td>7</td>\n",
       "      <td>UK</td>\n",
       "      <td>YES</td>\n",
       "    </tr>\n",
       "    <tr>\n",
       "      <th>12</th>\n",
       "      <td>45</td>\n",
       "      <td>9</td>\n",
       "      <td>9</td>\n",
       "      <td>UK</td>\n",
       "      <td>YES</td>\n",
       "    </tr>\n",
       "  </tbody>\n",
       "</table>\n",
       "</div>"
      ],
      "text/plain": [
       "    Age  Experience  Rank Nationality   Go\n",
       "0    36          10     9          UK   NO\n",
       "1    42          12     4         USA   NO\n",
       "2    23           4     6           N   NO\n",
       "3    52           4     4         USA   NO\n",
       "4    43          21     8         USA  YES\n",
       "5    44          14     5          UK   NO\n",
       "6    66           3     7           N  YES\n",
       "7    35          14     9          UK  YES\n",
       "8    52          13     7           N  YES\n",
       "9    35           5     9           N  YES\n",
       "10   24           3     5         USA   NO\n",
       "11   18           3     7          UK  YES\n",
       "12   45           9     9          UK  YES"
      ]
     },
     "execution_count": 8,
     "metadata": {},
     "output_type": "execute_result"
    }
   ],
   "source": [
    "df = pandas.read_csv('shows.csv')\n",
    "df"
   ]
  },
  {
   "cell_type": "markdown",
   "id": "450dfa7e",
   "metadata": {},
   "source": [
    "# Representar los valores alfanuméricos del dataset"
   ]
  },
  {
   "cell_type": "markdown",
   "id": "3930ea24",
   "metadata": {},
   "source": [
    "#### En esta sección se reemplazaran los valores no numéricos por numéricos"
   ]
  },
  {
   "cell_type": "code",
   "execution_count": 9,
   "id": "89935b8a",
   "metadata": {},
   "outputs": [
    {
     "name": "stdout",
     "output_type": "stream",
     "text": [
      "    Age  Experience  Rank  Nationality  Go\n",
      "0    36          10     9            0   0\n",
      "1    42          12     4            1   0\n",
      "2    23           4     6            2   0\n",
      "3    52           4     4            1   0\n",
      "4    43          21     8            1   1\n",
      "5    44          14     5            0   0\n",
      "6    66           3     7            2   1\n",
      "7    35          14     9            0   1\n",
      "8    52          13     7            2   1\n",
      "9    35           5     9            2   1\n",
      "10   24           3     5            1   0\n",
      "11   18           3     7            0   1\n",
      "12   45           9     9            0   1\n"
     ]
    }
   ],
   "source": [
    "#Asignamos valor de 0 1 2 correspondientemente a los paises\n",
    "d1 = {'UK': 0, 'USA': 1, 'N': 2}\n",
    "df['Nationality'] = df['Nationality'].map(d1)\n",
    "#Asignamos valor de 0 1 a los valores de SI y NO\n",
    "d2 = {'YES': 1, 'NO': 0}\n",
    "df['Go'] = df['Go'].map(d2)\n",
    "#Imprimimos la tabla\n",
    "print(df)"
   ]
  },
  {
   "cell_type": "markdown",
   "id": "7920f03a",
   "metadata": {},
   "source": [
    "# Elegir características"
   ]
  },
  {
   "cell_type": "markdown",
   "id": "edddf8e8",
   "metadata": {},
   "source": [
    "#### Se seleccionan columnas de las que intentamos predecir. Se deben elegir las columnas que aportarán más al objetivo del modelo. "
   ]
  },
  {
   "cell_type": "code",
   "execution_count": 10,
   "id": "ba91f6aa",
   "metadata": {},
   "outputs": [],
   "source": [
    "#Creamos variable features y la almacenamos dentro de una variable x dentro de un array\n",
    "features = ['Age', 'Experience', 'Rank', 'Nationality']\n",
    "X = df[features]"
   ]
  },
  {
   "cell_type": "code",
   "execution_count": 11,
   "id": "a1c40a22",
   "metadata": {},
   "outputs": [],
   "source": [
    "#Seleccionamos el objetivo y lo almacenamos dentro de la variable y\n",
    "y = df['Go']"
   ]
  },
  {
   "cell_type": "markdown",
   "id": "27aff6bd",
   "metadata": {},
   "source": [
    "#### Imprimimos 'x ' y 'y '"
   ]
  },
  {
   "cell_type": "code",
   "execution_count": 12,
   "id": "96fd7f85",
   "metadata": {},
   "outputs": [
    {
     "name": "stdout",
     "output_type": "stream",
     "text": [
      "    Age  Experience  Rank  Nationality\n",
      "0    36          10     9            0\n",
      "1    42          12     4            1\n",
      "2    23           4     6            2\n",
      "3    52           4     4            1\n",
      "4    43          21     8            1\n",
      "5    44          14     5            0\n",
      "6    66           3     7            2\n",
      "7    35          14     9            0\n",
      "8    52          13     7            2\n",
      "9    35           5     9            2\n",
      "10   24           3     5            1\n",
      "11   18           3     7            0\n",
      "12   45           9     9            0\n",
      "\n",
      "0     0\n",
      "1     0\n",
      "2     0\n",
      "3     0\n",
      "4     1\n",
      "5     0\n",
      "6     1\n",
      "7     1\n",
      "8     1\n",
      "9     1\n",
      "10    0\n",
      "11    1\n",
      "12    1\n",
      "Name: Go, dtype: int64\n"
     ]
    }
   ],
   "source": [
    "print(X, y, sep='\\n\\n')"
   ]
  },
  {
   "cell_type": "markdown",
   "id": "9d158b10",
   "metadata": {},
   "source": [
    "# Creación de árbol de decisiones"
   ]
  },
  {
   "cell_type": "markdown",
   "id": "91be7644",
   "metadata": {},
   "source": [
    "#### Utilizando DecisionTreeClassifier6 de la librería sklearn. Mediante método “fit” construya un clasificador de árbol de decisión a partir del conjunto de entrenamiento (X, y). "
   ]
  },
  {
   "cell_type": "code",
   "execution_count": 13,
   "id": "23687196",
   "metadata": {},
   "outputs": [],
   "source": [
    "dtree = DecisionTreeClassifier()\n",
    "dtree = dtree.fit(X, y)"
   ]
  },
  {
   "cell_type": "markdown",
   "id": "7e8c845e",
   "metadata": {},
   "source": [
    "# Guardar el árbol de decisiones"
   ]
  },
  {
   "cell_type": "code",
   "execution_count": 21,
   "id": "151ee3a3",
   "metadata": {},
   "outputs": [
    {
     "ename": "NameError",
     "evalue": "name 'pydotplus' is not defined",
     "output_type": "error",
     "traceback": [
      "\u001b[1;31m---------------------------------------------------------------------------\u001b[0m",
      "\u001b[1;31mNameError\u001b[0m                                 Traceback (most recent call last)",
      "Input \u001b[1;32mIn [21]\u001b[0m, in \u001b[0;36m<cell line: 3>\u001b[1;34m()\u001b[0m\n\u001b[0;32m      1\u001b[0m \u001b[38;5;66;03m#Utilizando pydotplus guardaremos el arbol de decision como una imagen\u001b[39;00m\n\u001b[0;32m      2\u001b[0m data \u001b[38;5;241m=\u001b[39m tree\u001b[38;5;241m.\u001b[39mexport_graphviz(dtree, out_file\u001b[38;5;241m=\u001b[39m\u001b[38;5;28;01mNone\u001b[39;00m, feature_names\u001b[38;5;241m=\u001b[39mfeatures)\n\u001b[1;32m----> 3\u001b[0m graph \u001b[38;5;241m=\u001b[39m \u001b[43mpydotplus\u001b[49m\u001b[38;5;241m.\u001b[39mgraph_from_dot_data(data)\n\u001b[0;32m      4\u001b[0m graph\u001b[38;5;241m.\u001b[39mwrite_png(\u001b[38;5;124m'\u001b[39m\u001b[38;5;124mmydecisiontree.png\u001b[39m\u001b[38;5;124m'\u001b[39m)\n",
      "\u001b[1;31mNameError\u001b[0m: name 'pydotplus' is not defined"
     ]
    }
   ],
   "source": [
    "#Utilizando pydotplus guardaremos el arbol de decision como una imagen\n",
    "data = tree.export_graphviz(dtree, out_file=None, feature_names=features)\n",
    "graph = pydotplus.graph_from_dot_data(data)\n",
    "graph.write_png('mydecisiontree.png')"
   ]
  },
  {
   "cell_type": "code",
   "execution_count": null,
   "id": "c8f646a4",
   "metadata": {},
   "outputs": [],
   "source": []
  }
 ],
 "metadata": {
  "kernelspec": {
   "display_name": "Python 3 (ipykernel)",
   "language": "python",
   "name": "python3"
  },
  "language_info": {
   "codemirror_mode": {
    "name": "ipython",
    "version": 3
   },
   "file_extension": ".py",
   "mimetype": "text/x-python",
   "name": "python",
   "nbconvert_exporter": "python",
   "pygments_lexer": "ipython3",
   "version": "3.9.12"
  }
 },
 "nbformat": 4,
 "nbformat_minor": 5
}
